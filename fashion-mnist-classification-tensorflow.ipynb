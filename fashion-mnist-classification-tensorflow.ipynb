{
  "nbformat": 4,
  "nbformat_minor": 0,
  "metadata": {
    "colab": {
      "provenance": []
    },
    "kernelspec": {
      "name": "python3",
      "display_name": "Python 3"
    },
    "language_info": {
      "name": "python"
    }
  },
  "cells": [
    {
      "cell_type": "code",
      "execution_count": 1,
      "metadata": {
        "id": "egSivrIT3yR2"
      },
      "outputs": [],
      "source": [
        "import tensorflow as tf\n",
        "from tensorflow import keras"
      ]
    },
    {
      "cell_type": "code",
      "source": [
        "fashion_mnist = keras.datasets.fashion_mnist\n",
        "(xtrain_full, ytrain_full), (xtest_full, ytest_full) = fashion_mnist.load_data()"
      ],
      "metadata": {
        "colab": {
          "base_uri": "https://localhost:8080/"
        },
        "id": "l530RLcxa2QW",
        "outputId": "33429732-7269-4cce-f9ac-79779b80e855"
      },
      "execution_count": 2,
      "outputs": [
        {
          "output_type": "stream",
          "name": "stdout",
          "text": [
            "Downloading data from https://storage.googleapis.com/tensorflow/tf-keras-datasets/train-labels-idx1-ubyte.gz\n",
            "29515/29515 [==============================] - 0s 0us/step\n",
            "Downloading data from https://storage.googleapis.com/tensorflow/tf-keras-datasets/train-images-idx3-ubyte.gz\n",
            "26421880/26421880 [==============================] - 0s 0us/step\n",
            "Downloading data from https://storage.googleapis.com/tensorflow/tf-keras-datasets/t10k-labels-idx1-ubyte.gz\n",
            "5148/5148 [==============================] - 0s 0us/step\n",
            "Downloading data from https://storage.googleapis.com/tensorflow/tf-keras-datasets/t10k-images-idx3-ubyte.gz\n",
            "4422102/4422102 [==============================] - 0s 0us/step\n"
          ]
        }
      ]
    },
    {
      "cell_type": "code",
      "source": [
        "xtrain_full.shape"
      ],
      "metadata": {
        "colab": {
          "base_uri": "https://localhost:8080/"
        },
        "id": "x9Rvb411bJQl",
        "outputId": "a0f6b4d0-d620-4a05-d631-8ade97a1381b"
      },
      "execution_count": 3,
      "outputs": [
        {
          "output_type": "execute_result",
          "data": {
            "text/plain": [
              "(60000, 28, 28)"
            ]
          },
          "metadata": {},
          "execution_count": 3
        }
      ]
    },
    {
      "cell_type": "code",
      "source": [
        "xtrain_full.dtype"
      ],
      "metadata": {
        "colab": {
          "base_uri": "https://localhost:8080/"
        },
        "id": "VE-dQzBkbNA0",
        "outputId": "4119be5d-d033-477a-9dce-cf07d44f42ab"
      },
      "execution_count": 4,
      "outputs": [
        {
          "output_type": "execute_result",
          "data": {
            "text/plain": [
              "dtype('uint8')"
            ]
          },
          "metadata": {},
          "execution_count": 4
        }
      ]
    },
    {
      "cell_type": "code",
      "source": [
        "xtrain_full[0]"
      ],
      "metadata": {
        "colab": {
          "base_uri": "https://localhost:8080/",
          "height": 68
        },
        "id": "uTRp7IkdbhUJ",
        "outputId": "d0a4bcb0-5b33-4022-d032-63daa0eadf92"
      },
      "execution_count": 5,
      "outputs": [
        {
          "output_type": "execute_result",
          "data": {
            "text/plain": [
              "array([[  0,   0,   0,   0,   0,   0,   0,   0,   0,   0,   0,   0,   0,\n",
              "          0,   0,   0,   0,   0,   0,   0,   0,   0,   0,   0,   0,   0,\n",
              "          0,   0],\n",
              "       [  0,   0,   0,   0,   0,   0,   0,   0,   0,   0,   0,   0,   0,\n",
              "          0,   0,   0,   0,   0,   0,   0,   0,   0,   0,   0,   0,   0,\n",
              "          0,   0],\n",
              "       [  0,   0,   0,   0,   0,   0,   0,   0,   0,   0,   0,   0,   0,\n",
              "          0,   0,   0,   0,   0,   0,   0,   0,   0,   0,   0,   0,   0,\n",
              "          0,   0],\n",
              "       [  0,   0,   0,   0,   0,   0,   0,   0,   0,   0,   0,   0,   1,\n",
              "          0,   0,  13,  73,   0,   0,   1,   4,   0,   0,   0,   0,   1,\n",
              "          1,   0],\n",
              "       [  0,   0,   0,   0,   0,   0,   0,   0,   0,   0,   0,   0,   3,\n",
              "          0,  36, 136, 127,  62,  54,   0,   0,   0,   1,   3,   4,   0,\n",
              "          0,   3],\n",
              "       [  0,   0,   0,   0,   0,   0,   0,   0,   0,   0,   0,   0,   6,\n",
              "          0, 102, 204, 176, 134, 144, 123,  23,   0,   0,   0,   0,  12,\n",
              "         10,   0],\n",
              "       [  0,   0,   0,   0,   0,   0,   0,   0,   0,   0,   0,   0,   0,\n",
              "          0, 155, 236, 207, 178, 107, 156, 161, 109,  64,  23,  77, 130,\n",
              "         72,  15],\n",
              "       [  0,   0,   0,   0,   0,   0,   0,   0,   0,   0,   0,   1,   0,\n",
              "         69, 207, 223, 218, 216, 216, 163, 127, 121, 122, 146, 141,  88,\n",
              "        172,  66],\n",
              "       [  0,   0,   0,   0,   0,   0,   0,   0,   0,   1,   1,   1,   0,\n",
              "        200, 232, 232, 233, 229, 223, 223, 215, 213, 164, 127, 123, 196,\n",
              "        229,   0],\n",
              "       [  0,   0,   0,   0,   0,   0,   0,   0,   0,   0,   0,   0,   0,\n",
              "        183, 225, 216, 223, 228, 235, 227, 224, 222, 224, 221, 223, 245,\n",
              "        173,   0],\n",
              "       [  0,   0,   0,   0,   0,   0,   0,   0,   0,   0,   0,   0,   0,\n",
              "        193, 228, 218, 213, 198, 180, 212, 210, 211, 213, 223, 220, 243,\n",
              "        202,   0],\n",
              "       [  0,   0,   0,   0,   0,   0,   0,   0,   0,   1,   3,   0,  12,\n",
              "        219, 220, 212, 218, 192, 169, 227, 208, 218, 224, 212, 226, 197,\n",
              "        209,  52],\n",
              "       [  0,   0,   0,   0,   0,   0,   0,   0,   0,   0,   6,   0,  99,\n",
              "        244, 222, 220, 218, 203, 198, 221, 215, 213, 222, 220, 245, 119,\n",
              "        167,  56],\n",
              "       [  0,   0,   0,   0,   0,   0,   0,   0,   0,   4,   0,   0,  55,\n",
              "        236, 228, 230, 228, 240, 232, 213, 218, 223, 234, 217, 217, 209,\n",
              "         92,   0],\n",
              "       [  0,   0,   1,   4,   6,   7,   2,   0,   0,   0,   0,   0, 237,\n",
              "        226, 217, 223, 222, 219, 222, 221, 216, 223, 229, 215, 218, 255,\n",
              "         77,   0],\n",
              "       [  0,   3,   0,   0,   0,   0,   0,   0,   0,  62, 145, 204, 228,\n",
              "        207, 213, 221, 218, 208, 211, 218, 224, 223, 219, 215, 224, 244,\n",
              "        159,   0],\n",
              "       [  0,   0,   0,   0,  18,  44,  82, 107, 189, 228, 220, 222, 217,\n",
              "        226, 200, 205, 211, 230, 224, 234, 176, 188, 250, 248, 233, 238,\n",
              "        215,   0],\n",
              "       [  0,  57, 187, 208, 224, 221, 224, 208, 204, 214, 208, 209, 200,\n",
              "        159, 245, 193, 206, 223, 255, 255, 221, 234, 221, 211, 220, 232,\n",
              "        246,   0],\n",
              "       [  3, 202, 228, 224, 221, 211, 211, 214, 205, 205, 205, 220, 240,\n",
              "         80, 150, 255, 229, 221, 188, 154, 191, 210, 204, 209, 222, 228,\n",
              "        225,   0],\n",
              "       [ 98, 233, 198, 210, 222, 229, 229, 234, 249, 220, 194, 215, 217,\n",
              "        241,  65,  73, 106, 117, 168, 219, 221, 215, 217, 223, 223, 224,\n",
              "        229,  29],\n",
              "       [ 75, 204, 212, 204, 193, 205, 211, 225, 216, 185, 197, 206, 198,\n",
              "        213, 240, 195, 227, 245, 239, 223, 218, 212, 209, 222, 220, 221,\n",
              "        230,  67],\n",
              "       [ 48, 203, 183, 194, 213, 197, 185, 190, 194, 192, 202, 214, 219,\n",
              "        221, 220, 236, 225, 216, 199, 206, 186, 181, 177, 172, 181, 205,\n",
              "        206, 115],\n",
              "       [  0, 122, 219, 193, 179, 171, 183, 196, 204, 210, 213, 207, 211,\n",
              "        210, 200, 196, 194, 191, 195, 191, 198, 192, 176, 156, 167, 177,\n",
              "        210,  92],\n",
              "       [  0,   0,  74, 189, 212, 191, 175, 172, 175, 181, 185, 188, 189,\n",
              "        188, 193, 198, 204, 209, 210, 210, 211, 188, 188, 194, 192, 216,\n",
              "        170,   0],\n",
              "       [  2,   0,   0,   0,  66, 200, 222, 237, 239, 242, 246, 243, 244,\n",
              "        221, 220, 193, 191, 179, 182, 182, 181, 176, 166, 168,  99,  58,\n",
              "          0,   0],\n",
              "       [  0,   0,   0,   0,   0,   0,   0,  40,  61,  44,  72,  41,  35,\n",
              "          0,   0,   0,   0,   0,   0,   0,   0,   0,   0,   0,   0,   0,\n",
              "          0,   0],\n",
              "       [  0,   0,   0,   0,   0,   0,   0,   0,   0,   0,   0,   0,   0,\n",
              "          0,   0,   0,   0,   0,   0,   0,   0,   0,   0,   0,   0,   0,\n",
              "          0,   0],\n",
              "       [  0,   0,   0,   0,   0,   0,   0,   0,   0,   0,   0,   0,   0,\n",
              "          0,   0,   0,   0,   0,   0,   0,   0,   0,   0,   0,   0,   0,\n",
              "          0,   0]], dtype=uint8)"
            ],
            "text/html": [
              "<style>\n",
              "      .ndarray_repr .ndarray_raw_data {\n",
              "        display: none;\n",
              "      }\n",
              "      .ndarray_repr.show_array .ndarray_raw_data {\n",
              "        display: block;\n",
              "      }\n",
              "      .ndarray_repr.show_array .ndarray_image_preview {\n",
              "        display: none;\n",
              "      }\n",
              "      </style>\n",
              "      <div id=\"id-27f288cd-60c9-4ca6-8953-d700c9fb772c\" class=\"ndarray_repr\"><pre>ndarray (28, 28) <button style=\"padding: 0 2px;\">show data</button></pre><img src=\"data:image/png;base64,iVBORw0KGgoAAAANSUhEUgAAABwAAAAcCAAAAABXZoBIAAACBUlEQVR4nLXSz0tUURQH8O+597373rx545g6NmNJY6TlJgozEsKFZGCrkDBoVdGmdf9BiwJ3bVr1PwhBUbQfJQcKjWZRTsjo0KDpDPV+eN+997WK0Z2bvtsPfM+Bc4D/HwJycwBZAEAE6zAyfe5RFMQfFYiRAj+CXM/c2HK82VetVMM34RGUmCxz9v7yYnW9dnWyskyHR6azi72Jwep3ScVk9c7LLhKQrpRBSiI2n76puZFT3doUwH4pcmw/zpjrU2zw3dFt4XEWdvbKhpinzTBYt5bDH4qlLYO8cbKBWHOudDHluFtiLrLD0kmM2//6q9VFS+JLLDxv9GzMPV9v3XuzYgHEGSUGCngbRCLd4W6CxPCLHTDwVMkDA0y/qEa/lFFBoF2EEME8CAD6hsZK8+djlmSatuiXXsWfNh27NU6Yelro1bytPElRbaGaO1FGPfc7zPg9HvHlIaVD8AjID9y/+bgZ/6iP9ks7J/QZevh8w/cd2PlGs8CKt92R7MQEk0yA7GtWq9ETN3zRs7fpR7FaWi/3yXaipW1IjFnbaSM70N7dsRzbzbHd8aCx7+wmKskUO5esz0sPmvXYF67gBzoNfxptxb5stxM10iLg1pOTO23NhcUptW1hE6gFYYprC8QMMPNsMM+4pamVbps/HGkSsg+1Cv4d+0Jh//Sm3DjGix4rfwFoJNh2/0cDFgAAAABJRU5ErkJggg==\" class=\"ndarray_image_preview\" /><pre class=\"ndarray_raw_data\">array([[  0,   0,   0,   0,   0,   0,   0,   0,   0,   0,   0,   0,   0,\n",
              "          0,   0,   0,   0,   0,   0,   0,   0,   0,   0,   0,   0,   0,\n",
              "          0,   0],\n",
              "       [  0,   0,   0,   0,   0,   0,   0,   0,   0,   0,   0,   0,   0,\n",
              "          0,   0,   0,   0,   0,   0,   0,   0,   0,   0,   0,   0,   0,\n",
              "          0,   0],\n",
              "       [  0,   0,   0,   0,   0,   0,   0,   0,   0,   0,   0,   0,   0,\n",
              "          0,   0,   0,   0,   0,   0,   0,   0,   0,   0,   0,   0,   0,\n",
              "          0,   0],\n",
              "       [  0,   0,   0,   0,   0,   0,   0,   0,   0,   0,   0,   0,   1,\n",
              "          0,   0,  13,  73,   0,   0,   1,   4,   0,   0,   0,   0,   1,\n",
              "          1,   0],\n",
              "       [  0,   0,   0,   0,   0,   0,   0,   0,   0,   0,   0,   0,   3,\n",
              "          0,  36, 136, 127,  62,  54,   0,   0,   0,   1,   3,   4,   0,\n",
              "          0,   3],\n",
              "       [  0,   0,   0,   0,   0,   0,   0,   0,   0,   0,   0,   0,   6,\n",
              "          0, 102, 204, 176, 134, 144, 123,  23,   0,   0,   0,   0,  12,\n",
              "         10,   0],\n",
              "       [  0,   0,   0,   0,   0,   0,   0,   0,   0,   0,   0,   0,   0,\n",
              "          0, 155, 236, 207, 178, 107, 156, 161, 109,  64,  23,  77, 130,\n",
              "         72,  15],\n",
              "       [  0,   0,   0,   0,   0,   0,   0,   0,   0,   0,   0,   1,   0,\n",
              "         69, 207, 223, 218, 216, 216, 163, 127, 121, 122, 146, 141,  88,\n",
              "        172,  66],\n",
              "       [  0,   0,   0,   0,   0,   0,   0,   0,   0,   1,   1,   1,   0,\n",
              "        200, 232, 232, 233, 229, 223, 223, 215, 213, 164, 127, 123, 196,\n",
              "        229,   0],\n",
              "       [  0,   0,   0,   0,   0,   0,   0,   0,   0,   0,   0,   0,   0,\n",
              "        183, 225, 216, 223, 228, 235, 227, 224, 222, 224, 221, 223, 245,\n",
              "        173,   0],\n",
              "       [  0,   0,   0,   0,   0,   0,   0,   0,   0,   0,   0,   0,   0,\n",
              "        193, 228, 218, 213, 198, 180, 212, 210, 211, 213, 223, 220, 243,\n",
              "        202,   0],\n",
              "       [  0,   0,   0,   0,   0,   0,   0,   0,   0,   1,   3,   0,  12,\n",
              "        219, 220, 212, 218, 192, 169, 227, 208, 218, 224, 212, 226, 197,\n",
              "        209,  52],\n",
              "       [  0,   0,   0,   0,   0,   0,   0,   0,   0,   0,   6,   0,  99,\n",
              "        244, 222, 220, 218, 203, 198, 221, 215, 213, 222, 220, 245, 119,\n",
              "        167,  56],\n",
              "       [  0,   0,   0,   0,   0,   0,   0,   0,   0,   4,   0,   0,  55,\n",
              "        236, 228, 230, 228, 240, 232, 213, 218, 223, 234, 217, 217, 209,\n",
              "         92,   0],\n",
              "       [  0,   0,   1,   4,   6,   7,   2,   0,   0,   0,   0,   0, 237,\n",
              "        226, 217, 223, 222, 219, 222, 221, 216, 223, 229, 215, 218, 255,\n",
              "         77,   0],\n",
              "       [  0,   3,   0,   0,   0,   0,   0,   0,   0,  62, 145, 204, 228,\n",
              "        207, 213, 221, 218, 208, 211, 218, 224, 223, 219, 215, 224, 244,\n",
              "        159,   0],\n",
              "       [  0,   0,   0,   0,  18,  44,  82, 107, 189, 228, 220, 222, 217,\n",
              "        226, 200, 205, 211, 230, 224, 234, 176, 188, 250, 248, 233, 238,\n",
              "        215,   0],\n",
              "       [  0,  57, 187, 208, 224, 221, 224, 208, 204, 214, 208, 209, 200,\n",
              "        159, 245, 193, 206, 223, 255, 255, 221, 234, 221, 211, 220, 232,\n",
              "        246,   0],\n",
              "       [  3, 202, 228, 224, 221, 211, 211, 214, 205, 205, 205, 220, 240,\n",
              "         80, 150, 255, 229, 221, 188, 154, 191, 210, 204, 209, 222, 228,\n",
              "        225,   0],\n",
              "       [ 98, 233, 198, 210, 222, 229, 229, 234, 249, 220, 194, 215, 217,\n",
              "        241,  65,  73, 106, 117, 168, 219, 221, 215, 217, 223, 223, 224,\n",
              "        229,  29],\n",
              "       [ 75, 204, 212, 204, 193, 205, 211, 225, 216, 185, 197, 206, 198,\n",
              "        213, 240, 195, 227, 245, 239, 223, 218, 212, 209, 222, 220, 221,\n",
              "        230,  67],\n",
              "       [ 48, 203, 183, 194, 213, 197, 185, 190, 194, 192, 202, 214, 219,\n",
              "        221, 220, 236, 225, 216, 199, 206, 186, 181, 177, 172, 181, 205,\n",
              "        206, 115],\n",
              "       [  0, 122, 219, 193, 179, 171, 183, 196, 204, 210, 213, 207, 211,\n",
              "        210, 200, 196, 194, 191, 195, 191, 198, 192, 176, 156, 167, 177,\n",
              "        210,  92],\n",
              "       [  0,   0,  74, 189, 212, 191, 175, 172, 175, 181, 185, 188, 189,\n",
              "        188, 193, 198, 204, 209, 210, 210, 211, 188, 188, 194, 192, 216,\n",
              "        170,   0],\n",
              "       [  2,   0,   0,   0,  66, 200, 222, 237, 239, 242, 246, 243, 244,\n",
              "        221, 220, 193, 191, 179, 182, 182, 181, 176, 166, 168,  99,  58,\n",
              "          0,   0],\n",
              "       [  0,   0,   0,   0,   0,   0,   0,  40,  61,  44,  72,  41,  35,\n",
              "          0,   0,   0,   0,   0,   0,   0,   0,   0,   0,   0,   0,   0,\n",
              "          0,   0],\n",
              "       [  0,   0,   0,   0,   0,   0,   0,   0,   0,   0,   0,   0,   0,\n",
              "          0,   0,   0,   0,   0,   0,   0,   0,   0,   0,   0,   0,   0,\n",
              "          0,   0],\n",
              "       [  0,   0,   0,   0,   0,   0,   0,   0,   0,   0,   0,   0,   0,\n",
              "          0,   0,   0,   0,   0,   0,   0,   0,   0,   0,   0,   0,   0,\n",
              "          0,   0]], dtype=uint8)</pre></div><script>\n",
              "      (() => {\n",
              "      const titles = ['show data', 'hide data'];\n",
              "      let index = 0\n",
              "      document.querySelector('#id-27f288cd-60c9-4ca6-8953-d700c9fb772c button').onclick = (e) => {\n",
              "        document.querySelector('#id-27f288cd-60c9-4ca6-8953-d700c9fb772c').classList.toggle('show_array');\n",
              "        index = (++index) % 2;\n",
              "        document.querySelector('#id-27f288cd-60c9-4ca6-8953-d700c9fb772c button').textContent = titles[index];\n",
              "        e.preventDefault();\n",
              "        e.stopPropagation();\n",
              "      }\n",
              "      })();\n",
              "    </script>"
            ]
          },
          "metadata": {},
          "execution_count": 5
        }
      ]
    },
    {
      "cell_type": "markdown",
      "source": [
        "Doing scaling, as we will be using GradientScalar for training the nueral networks."
      ],
      "metadata": {
        "id": "nhkmOTkvbxId"
      }
    },
    {
      "cell_type": "code",
      "source": [
        "xtrain_full = xtrain_full/255.0\n",
        "xtest_full =  xtest_full/255.0"
      ],
      "metadata": {
        "id": "Xd13b-Ndbwrf"
      },
      "execution_count": 6,
      "outputs": []
    },
    {
      "cell_type": "markdown",
      "source": [
        "Dividing the dataset into test and validation set."
      ],
      "metadata": {
        "id": "zd23Nw8acFTZ"
      }
    },
    {
      "cell_type": "code",
      "source": [
        "xval, xtrain = xtrain_full[:5000], xtrain_full[5000:]\n",
        "yval, ytrain = ytrain_full[:5000], ytrain_full[5000:]"
      ],
      "metadata": {
        "id": "aUnH8K-lcE69"
      },
      "execution_count": 7,
      "outputs": []
    },
    {
      "cell_type": "code",
      "source": [
        "xval.shape"
      ],
      "metadata": {
        "colab": {
          "base_uri": "https://localhost:8080/"
        },
        "id": "lBD13Flkcdfg",
        "outputId": "0a5dce26-9514-41d4-d5c8-f6d0e3c2e422"
      },
      "execution_count": 8,
      "outputs": [
        {
          "output_type": "execute_result",
          "data": {
            "text/plain": [
              "(5000, 28, 28)"
            ]
          },
          "metadata": {},
          "execution_count": 8
        }
      ]
    },
    {
      "cell_type": "code",
      "source": [
        "xtrain.shape"
      ],
      "metadata": {
        "colab": {
          "base_uri": "https://localhost:8080/"
        },
        "id": "KNV6hckycgHI",
        "outputId": "b5df9603-a0f3-45c2-9d5b-aa94c17cbac4"
      },
      "execution_count": 9,
      "outputs": [
        {
          "output_type": "execute_result",
          "data": {
            "text/plain": [
              "(55000, 28, 28)"
            ]
          },
          "metadata": {},
          "execution_count": 9
        }
      ]
    },
    {
      "cell_type": "code",
      "source": [
        "class_names = [\"T-shirt/top\",\"Trouser\", \"Pullover\", \"Dress\", \"Coat\", \"Sandal\", \"Shirt\", \"Sneaker\", \"Bag\", \"Ankle Boot\"]"
      ],
      "metadata": {
        "id": "QRLPBaoTcmrt"
      },
      "execution_count": 17,
      "outputs": []
    },
    {
      "cell_type": "code",
      "source": [
        "model = keras.models.Sequential()\n",
        "model.add(keras.layers.Flatten(input_shape = [28,28]))\n",
        "model.add(keras.layers.Dense(300, activation = \"relu\"))\n",
        "model.add(keras.layers.Dense(100, activation = \"relu\"))\n",
        "model.add(keras.layers.Dense(10,activation = \"softmax\"))"
      ],
      "metadata": {
        "id": "EAFrsT_YejQm"
      },
      "execution_count": 18,
      "outputs": []
    },
    {
      "cell_type": "code",
      "source": [
        "model.summary()"
      ],
      "metadata": {
        "colab": {
          "base_uri": "https://localhost:8080/"
        },
        "id": "AdNWfN6Jfnsg",
        "outputId": "7173ab64-f5dd-4105-def2-c7bc2318e931"
      },
      "execution_count": 19,
      "outputs": [
        {
          "output_type": "stream",
          "name": "stdout",
          "text": [
            "Model: \"sequential\"\n",
            "_________________________________________________________________\n",
            " Layer (type)                Output Shape              Param #   \n",
            "=================================================================\n",
            " flatten (Flatten)           (None, 784)               0         \n",
            "                                                                 \n",
            " dense (Dense)               (None, 300)               235500    \n",
            "                                                                 \n",
            " dense_1 (Dense)             (None, 100)               30100     \n",
            "                                                                 \n",
            " dense_2 (Dense)             (None, 10)                1010      \n",
            "                                                                 \n",
            "=================================================================\n",
            "Total params: 266610 (1.02 MB)\n",
            "Trainable params: 266610 (1.02 MB)\n",
            "Non-trainable params: 0 (0.00 Byte)\n",
            "_________________________________________________________________\n"
          ]
        }
      ]
    },
    {
      "cell_type": "code",
      "source": [
        "keras.utils.plot_model(model,show_shapes = True)"
      ],
      "metadata": {
        "colab": {
          "base_uri": "https://localhost:8080/",
          "height": 533
        },
        "id": "cYzRKy2Jft9U",
        "outputId": "d072e188-35a5-44d1-94e2-3105da07e8e6"
      },
      "execution_count": 21,
      "outputs": [
        {
          "output_type": "execute_result",
          "data": {
            "image/png": "[encoded data removed]",
            "text/plain": [
              "<IPython.core.display.Image object>"
            ]
          },
          "metadata": {},
          "execution_count": 21
        }
      ]
    },
    {
      "cell_type": "code",
      "source": [
        "model.layers"
      ],
      "metadata": {
        "colab": {
          "base_uri": "https://localhost:8080/"
        },
        "id": "lN6Puq7KgSXH",
        "outputId": "666e3e03-5451-4ac7-8b46-ca2619923ce4"
      },
      "execution_count": 22,
      "outputs": [
        {
          "output_type": "execute_result",
          "data": {
            "text/plain": [
              "[<keras.src.layers.reshaping.flatten.Flatten at 0x7e4d4ca34790>,\n",
              " <keras.src.layers.core.dense.Dense at 0x7e4d4a603c70>,\n",
              " <keras.src.layers.core.dense.Dense at 0x7e4d4cc36e60>,\n",
              " <keras.src.layers.core.dense.Dense at 0x7e4d4cc37490>]"
            ]
          },
          "metadata": {},
          "execution_count": 22
        }
      ]
    },
    {
      "cell_type": "code",
      "source": [
        "hidden_layer1 = model.layers[1]\n",
        "weight, bias = hidden_layer1.get_weights()"
      ],
      "metadata": {
        "id": "YBO3EXyOgVOa"
      },
      "execution_count": 26,
      "outputs": []
    },
    {
      "cell_type": "code",
      "source": [
        "weight.shape"
      ],
      "metadata": {
        "colab": {
          "base_uri": "https://localhost:8080/"
        },
        "id": "ro9VGpDJgwiI",
        "outputId": "72feae13-50e9-4d0c-94bd-aec87ebce9d1"
      },
      "execution_count": 27,
      "outputs": [
        {
          "output_type": "execute_result",
          "data": {
            "text/plain": [
              "(784, 300)"
            ]
          },
          "metadata": {},
          "execution_count": 27
        }
      ]
    },
    {
      "cell_type": "code",
      "source": [
        "bias.shape"
      ],
      "metadata": {
        "colab": {
          "base_uri": "https://localhost:8080/"
        },
        "id": "IyGiKm44gzo3",
        "outputId": "06368e1d-0028-4799-e998-d70ecd1e3b1a"
      },
      "execution_count": 28,
      "outputs": [
        {
          "output_type": "execute_result",
          "data": {
            "text/plain": [
              "(300,)"
            ]
          },
          "metadata": {},
          "execution_count": 28
        }
      ]
    },
    {
      "cell_type": "code",
      "source": [
        "model.compile(loss = \"sparse_categorical_crossentropy\", optimizer = \"sgd\", metrics = [\"accuracy\"])"
      ],
      "metadata": {
        "id": "sBrl9twtibbk"
      },
      "execution_count": 29,
      "outputs": []
    },
    {
      "cell_type": "code",
      "source": [
        "history = model.fit(xtrain, ytrain, epochs = 30, validation_data = (xval, yval))"
      ],
      "metadata": {
        "colab": {
          "base_uri": "https://localhost:8080/"
        },
        "id": "jzXmkHRSkiqY",
        "outputId": "e68a3ac9-50fc-48e9-c980-1e81e173c5d4"
      },
      "execution_count": 30,
      "outputs": [
        {
          "output_type": "stream",
          "name": "stdout",
          "text": [
            "Epoch 1/30\n",
            "1719/1719 [==============================] - 8s 4ms/step - loss: 0.7142 - accuracy: 0.7651 - val_loss: 0.5236 - val_accuracy: 0.8212\n",
            "Epoch 2/30\n",
            "1719/1719 [==============================] - 8s 5ms/step - loss: 0.4858 - accuracy: 0.8304 - val_loss: 0.4813 - val_accuracy: 0.8312\n",
            "Epoch 3/30\n",
            "1719/1719 [==============================] - 5s 3ms/step - loss: 0.4431 - accuracy: 0.8449 - val_loss: 0.4220 - val_accuracy: 0.8518\n",
            "Epoch 4/30\n",
            "1719/1719 [==============================] - 7s 4ms/step - loss: 0.4141 - accuracy: 0.8553 - val_loss: 0.4150 - val_accuracy: 0.8596\n",
            "Epoch 5/30\n",
            "1719/1719 [==============================] - 5s 3ms/step - loss: 0.3936 - accuracy: 0.8618 - val_loss: 0.3797 - val_accuracy: 0.8684\n",
            "Epoch 6/30\n",
            "1719/1719 [==============================] - 7s 4ms/step - loss: 0.3786 - accuracy: 0.8669 - val_loss: 0.3904 - val_accuracy: 0.8616\n",
            "Epoch 7/30\n",
            "1719/1719 [==============================] - 5s 3ms/step - loss: 0.3646 - accuracy: 0.8713 - val_loss: 0.3612 - val_accuracy: 0.8770\n",
            "Epoch 8/30\n",
            "1719/1719 [==============================] - 6s 3ms/step - loss: 0.3523 - accuracy: 0.8745 - val_loss: 0.3574 - val_accuracy: 0.8752\n",
            "Epoch 9/30\n",
            "1719/1719 [==============================] - 6s 3ms/step - loss: 0.3419 - accuracy: 0.8779 - val_loss: 0.3614 - val_accuracy: 0.8726\n",
            "Epoch 10/30\n",
            "1719/1719 [==============================] - 5s 3ms/step - loss: 0.3325 - accuracy: 0.8810 - val_loss: 0.3716 - val_accuracy: 0.8646\n",
            "Epoch 11/30\n",
            "1719/1719 [==============================] - 7s 4ms/step - loss: 0.3244 - accuracy: 0.8829 - val_loss: 0.3415 - val_accuracy: 0.8802\n",
            "Epoch 12/30\n",
            "1719/1719 [==============================] - 5s 3ms/step - loss: 0.3166 - accuracy: 0.8869 - val_loss: 0.3589 - val_accuracy: 0.8720\n",
            "Epoch 13/30\n",
            "1719/1719 [==============================] - 6s 4ms/step - loss: 0.3090 - accuracy: 0.8892 - val_loss: 0.3317 - val_accuracy: 0.8812\n",
            "Epoch 14/30\n",
            "1719/1719 [==============================] - 5s 3ms/step - loss: 0.3026 - accuracy: 0.8915 - val_loss: 0.3387 - val_accuracy: 0.8802\n",
            "Epoch 15/30\n",
            "1719/1719 [==============================] - 6s 3ms/step - loss: 0.2958 - accuracy: 0.8934 - val_loss: 0.3322 - val_accuracy: 0.8824\n",
            "Epoch 16/30\n",
            "1719/1719 [==============================] - 6s 4ms/step - loss: 0.2901 - accuracy: 0.8962 - val_loss: 0.3250 - val_accuracy: 0.8854\n",
            "Epoch 17/30\n",
            "1719/1719 [==============================] - 5s 3ms/step - loss: 0.2846 - accuracy: 0.8984 - val_loss: 0.3153 - val_accuracy: 0.8858\n",
            "Epoch 18/30\n",
            "1719/1719 [==============================] - 7s 4ms/step - loss: 0.2778 - accuracy: 0.9003 - val_loss: 0.3241 - val_accuracy: 0.8836\n",
            "Epoch 19/30\n",
            "1719/1719 [==============================] - 5s 3ms/step - loss: 0.2730 - accuracy: 0.9006 - val_loss: 0.3262 - val_accuracy: 0.8822\n",
            "Epoch 20/30\n",
            "1719/1719 [==============================] - 7s 4ms/step - loss: 0.2673 - accuracy: 0.9035 - val_loss: 0.3108 - val_accuracy: 0.8876\n",
            "Epoch 21/30\n",
            "1719/1719 [==============================] - 5s 3ms/step - loss: 0.2638 - accuracy: 0.9055 - val_loss: 0.3096 - val_accuracy: 0.8870\n",
            "Epoch 22/30\n",
            "1719/1719 [==============================] - 5s 3ms/step - loss: 0.2582 - accuracy: 0.9064 - val_loss: 0.3055 - val_accuracy: 0.8874\n",
            "Epoch 23/30\n",
            "1719/1719 [==============================] - 6s 4ms/step - loss: 0.2536 - accuracy: 0.9097 - val_loss: 0.3060 - val_accuracy: 0.8912\n",
            "Epoch 24/30\n",
            "1719/1719 [==============================] - 5s 3ms/step - loss: 0.2490 - accuracy: 0.9105 - val_loss: 0.3172 - val_accuracy: 0.8826\n",
            "Epoch 25/30\n",
            "1719/1719 [==============================] - 7s 4ms/step - loss: 0.2451 - accuracy: 0.9112 - val_loss: 0.3066 - val_accuracy: 0.8886\n",
            "Epoch 26/30\n",
            "1719/1719 [==============================] - 5s 3ms/step - loss: 0.2413 - accuracy: 0.9129 - val_loss: 0.3013 - val_accuracy: 0.8914\n",
            "Epoch 27/30\n",
            "1719/1719 [==============================] - 7s 4ms/step - loss: 0.2368 - accuracy: 0.9147 - val_loss: 0.3197 - val_accuracy: 0.8872\n",
            "Epoch 28/30\n",
            "1719/1719 [==============================] - 5s 3ms/step - loss: 0.2333 - accuracy: 0.9157 - val_loss: 0.3061 - val_accuracy: 0.8886\n",
            "Epoch 29/30\n",
            "1719/1719 [==============================] - 5s 3ms/step - loss: 0.2292 - accuracy: 0.9168 - val_loss: 0.3005 - val_accuracy: 0.8930\n",
            "Epoch 30/30\n",
            "1719/1719 [==============================] - 6s 4ms/step - loss: 0.2250 - accuracy: 0.9186 - val_loss: 0.3138 - val_accuracy: 0.8866\n"
          ]
        }
      ]
    },
    {
      "cell_type": "code",
      "source": [
        "import pandas as pd\n",
        "import matplotlib.pyplot as plt\n",
        "\n",
        "pd.DataFrame(history.history).plot(figsize = (8,5))\n",
        "plt.grid(True)\n",
        "plt.gca().set_ylim(0,1)\n",
        "plt.show()"
      ],
      "metadata": {
        "colab": {
          "base_uri": "https://localhost:8080/",
          "height": 451
        },
        "id": "IO0T5G8CoB5K",
        "outputId": "940e85a1-1d77-4985-fb7f-46036d3940ad"
      },
      "execution_count": 33,
      "outputs": [
        {
          "output_type": "display_data",
          "data": {
            "text/plain": [
              "<Figure size 800x500 with 1 Axes>"
            ],
            "image/png": "[encoded data removed]"
          },
          "metadata": {}
        }
      ]
    },
    {
      "cell_type": "code",
      "source": [
        "history = model.fit(xtrain, ytrain, epochs = 30, validation_data = (xval, yval))"
      ],
      "metadata": {
        "colab": {
          "base_uri": "https://localhost:8080/"
        },
        "id": "XDzU-FzXouw_",
        "outputId": "52a8e431-aabf-42e9-c933-51a7c6004c7f"
      },
      "execution_count": 34,
      "outputs": [
        {
          "output_type": "stream",
          "name": "stdout",
          "text": [
            "Epoch 1/30\n",
            "1719/1719 [==============================] - 7s 4ms/step - loss: 0.2213 - accuracy: 0.9211 - val_loss: 0.3051 - val_accuracy: 0.8862\n",
            "Epoch 2/30\n",
            "1719/1719 [==============================] - 6s 4ms/step - loss: 0.2176 - accuracy: 0.9214 - val_loss: 0.2921 - val_accuracy: 0.8944\n",
            "Epoch 3/30\n",
            "1719/1719 [==============================] - 6s 3ms/step - loss: 0.2147 - accuracy: 0.9229 - val_loss: 0.2979 - val_accuracy: 0.8882\n",
            "Epoch 4/30\n",
            "1719/1719 [==============================] - 5s 3ms/step - loss: 0.2112 - accuracy: 0.9245 - val_loss: 0.2985 - val_accuracy: 0.8910\n",
            "Epoch 5/30\n",
            "1719/1719 [==============================] - 7s 4ms/step - loss: 0.2070 - accuracy: 0.9260 - val_loss: 0.2997 - val_accuracy: 0.8924\n",
            "Epoch 6/30\n",
            "1719/1719 [==============================] - 5s 3ms/step - loss: 0.2037 - accuracy: 0.9273 - val_loss: 0.2943 - val_accuracy: 0.8928\n",
            "Epoch 7/30\n",
            "1719/1719 [==============================] - 7s 4ms/step - loss: 0.2011 - accuracy: 0.9278 - val_loss: 0.2885 - val_accuracy: 0.8936\n",
            "Epoch 8/30\n",
            "1719/1719 [==============================] - 5s 3ms/step - loss: 0.1972 - accuracy: 0.9289 - val_loss: 0.3037 - val_accuracy: 0.8926\n",
            "Epoch 9/30\n",
            "1719/1719 [==============================] - 6s 3ms/step - loss: 0.1948 - accuracy: 0.9298 - val_loss: 0.2945 - val_accuracy: 0.8946\n",
            "Epoch 10/30\n",
            "1719/1719 [==============================] - 6s 3ms/step - loss: 0.1914 - accuracy: 0.9314 - val_loss: 0.3033 - val_accuracy: 0.8900\n",
            "Epoch 11/30\n",
            "1719/1719 [==============================] - 5s 3ms/step - loss: 0.1886 - accuracy: 0.9321 - val_loss: 0.2899 - val_accuracy: 0.8954\n",
            "Epoch 12/30\n",
            "1719/1719 [==============================] - 7s 4ms/step - loss: 0.1860 - accuracy: 0.9344 - val_loss: 0.2953 - val_accuracy: 0.8908\n",
            "Epoch 13/30\n",
            "1719/1719 [==============================] - 5s 3ms/step - loss: 0.1817 - accuracy: 0.9343 - val_loss: 0.3167 - val_accuracy: 0.8888\n",
            "Epoch 14/30\n",
            "1719/1719 [==============================] - 7s 4ms/step - loss: 0.1800 - accuracy: 0.9350 - val_loss: 0.3182 - val_accuracy: 0.8844\n",
            "Epoch 15/30\n",
            "1719/1719 [==============================] - 5s 3ms/step - loss: 0.1766 - accuracy: 0.9374 - val_loss: 0.3091 - val_accuracy: 0.8962\n",
            "Epoch 16/30\n",
            "1719/1719 [==============================] - 6s 4ms/step - loss: 0.1738 - accuracy: 0.9384 - val_loss: 0.2905 - val_accuracy: 0.8964\n",
            "Epoch 17/30\n",
            "1719/1719 [==============================] - 5s 3ms/step - loss: 0.1710 - accuracy: 0.9384 - val_loss: 0.3132 - val_accuracy: 0.8898\n",
            "Epoch 18/30\n",
            "1719/1719 [==============================] - 5s 3ms/step - loss: 0.1674 - accuracy: 0.9402 - val_loss: 0.2933 - val_accuracy: 0.8980\n",
            "Epoch 19/30\n",
            "1719/1719 [==============================] - 7s 4ms/step - loss: 0.1652 - accuracy: 0.9416 - val_loss: 0.3193 - val_accuracy: 0.8864\n",
            "Epoch 20/30\n",
            "1719/1719 [==============================] - 5s 3ms/step - loss: 0.1634 - accuracy: 0.9425 - val_loss: 0.3009 - val_accuracy: 0.8938\n",
            "Epoch 21/30\n",
            "1719/1719 [==============================] - 7s 4ms/step - loss: 0.1607 - accuracy: 0.9432 - val_loss: 0.3184 - val_accuracy: 0.8880\n",
            "Epoch 22/30\n",
            "1719/1719 [==============================] - 5s 3ms/step - loss: 0.1570 - accuracy: 0.9439 - val_loss: 0.3017 - val_accuracy: 0.8926\n",
            "Epoch 23/30\n",
            "1719/1719 [==============================] - 6s 4ms/step - loss: 0.1550 - accuracy: 0.9449 - val_loss: 0.2946 - val_accuracy: 0.8946\n",
            "Epoch 24/30\n",
            "1719/1719 [==============================] - 5s 3ms/step - loss: 0.1526 - accuracy: 0.9460 - val_loss: 0.3020 - val_accuracy: 0.8944\n",
            "Epoch 25/30\n",
            "1719/1719 [==============================] - 5s 3ms/step - loss: 0.1498 - accuracy: 0.9470 - val_loss: 0.3085 - val_accuracy: 0.8910\n",
            "Epoch 26/30\n",
            "1719/1719 [==============================] - 6s 4ms/step - loss: 0.1480 - accuracy: 0.9474 - val_loss: 0.3073 - val_accuracy: 0.8914\n",
            "Epoch 27/30\n",
            "1719/1719 [==============================] - 5s 3ms/step - loss: 0.1462 - accuracy: 0.9474 - val_loss: 0.3243 - val_accuracy: 0.8896\n",
            "Epoch 28/30\n",
            "1719/1719 [==============================] - 7s 4ms/step - loss: 0.1433 - accuracy: 0.9488 - val_loss: 0.3391 - val_accuracy: 0.8884\n",
            "Epoch 29/30\n",
            "1719/1719 [==============================] - 5s 3ms/step - loss: 0.1402 - accuracy: 0.9508 - val_loss: 0.3315 - val_accuracy: 0.8892\n",
            "Epoch 30/30\n",
            "1719/1719 [==============================] - 7s 4ms/step - loss: 0.1388 - accuracy: 0.9515 - val_loss: 0.3176 - val_accuracy: 0.8944\n"
          ]
        }
      ]
    },
    {
      "cell_type": "code",
      "source": [
        "import pandas as pd\n",
        "import matplotlib.pyplot as plt\n",
        "\n",
        "pd.DataFrame(history.history).plot(figsize = (8,5))\n",
        "plt.grid(True)\n",
        "plt.gca().set_ylim(0,1)\n",
        "plt.show()"
      ],
      "metadata": {
        "colab": {
          "base_uri": "https://localhost:8080/",
          "height": 451
        },
        "id": "Gw72B2sJpiXA",
        "outputId": "b9747a81-16e2-4784-fb5e-d558e17cb351"
      },
      "execution_count": 35,
      "outputs": [
        {
          "output_type": "display_data",
          "data": {
            "text/plain": [
              "<Figure size 800x500 with 1 Axes>"
            ],
            "image/png": "[encoded data removed]"
          },
          "metadata": {}
        }
      ]
    },
    {
      "cell_type": "code",
      "source": [
        "model.evaluate(xtest_full, ytest_full)"
      ],
      "metadata": {
        "colab": {
          "base_uri": "https://localhost:8080/"
        },
        "id": "I25OZLLJp39c",
        "outputId": "7a784fc6-c5fe-4134-c322-0e578f0a618f"
      },
      "execution_count": 37,
      "outputs": [
        {
          "output_type": "stream",
          "name": "stdout",
          "text": [
            "313/313 [==============================] - 1s 2ms/step - loss: 0.3485 - accuracy: 0.8874\n"
          ]
        },
        {
          "output_type": "execute_result",
          "data": {
            "text/plain": [
              "[0.3485390245914459, 0.8873999714851379]"
            ]
          },
          "metadata": {},
          "execution_count": 37
        }
      ]
    },
    {
      "cell_type": "markdown",
      "source": [
        "Make predictions"
      ],
      "metadata": {
        "id": "FDy7sFIPqF-L"
      }
    },
    {
      "cell_type": "code",
      "source": [
        "xnew = xtest_full[10:13]\n",
        "y_prob = model.predict(xnew)\n",
        "y_prob.round(2)"
      ],
      "metadata": {
        "colab": {
          "base_uri": "https://localhost:8080/"
        },
        "id": "1MsnXFJ1qITW",
        "outputId": "af86ed3b-3ebe-4be3-a635-e8af28c74563"
      },
      "execution_count": 43,
      "outputs": [
        {
          "output_type": "stream",
          "name": "stdout",
          "text": [
            "1/1 [==============================] - 0s 19ms/step\n"
          ]
        },
        {
          "output_type": "execute_result",
          "data": {
            "text/plain": [
              "array([[0.  , 0.  , 0.  , 0.  , 1.  , 0.  , 0.  , 0.  , 0.  , 0.  ],\n",
              "       [0.  , 0.  , 0.  , 0.  , 0.  , 1.  , 0.  , 0.  , 0.  , 0.  ],\n",
              "       [0.  , 0.  , 0.  , 0.  , 0.  , 0.96, 0.  , 0.02, 0.02, 0.  ]],\n",
              "      dtype=float32)"
            ]
          },
          "metadata": {},
          "execution_count": 43
        }
      ]
    },
    {
      "cell_type": "code",
      "source": [
        "import numpy as np\n",
        "y_pred = np.argmax(y_prob, axis = 1)\n",
        "y_pred"
      ],
      "metadata": {
        "colab": {
          "base_uri": "https://localhost:8080/"
        },
        "id": "uzPirlJMqlxk",
        "outputId": "3c3d279f-e86f-402a-a9f0-4d8329a9c820"
      },
      "execution_count": 47,
      "outputs": [
        {
          "output_type": "execute_result",
          "data": {
            "text/plain": [
              "array([4, 5, 5])"
            ]
          },
          "metadata": {},
          "execution_count": 47
        }
      ]
    },
    {
      "cell_type": "code",
      "source": [
        "np.array(class_names)[y_pred]"
      ],
      "metadata": {
        "colab": {
          "base_uri": "https://localhost:8080/"
        },
        "id": "1NZX5Pc7rRu2",
        "outputId": "7c4d0f07-7614-4938-c3d0-017ebda5339d"
      },
      "execution_count": 48,
      "outputs": [
        {
          "output_type": "execute_result",
          "data": {
            "text/plain": [
              "array(['Coat', 'Sandal', 'Sandal'], dtype='<U11')"
            ]
          },
          "metadata": {},
          "execution_count": 48
        }
      ]
    },
    {
      "cell_type": "code",
      "source": [
        "fig = plt.figure(figsize = (2, 1))\n",
        "\n",
        "fig.add_subplot(1, 3, 1)\n",
        "plt.imshow(xtest_full[10])\n",
        "plt.axis(\"off\")\n",
        "\n",
        "fig.add_subplot(1, 3, 2)\n",
        "plt.imshow(xtest_full[11])\n",
        "plt.axis(\"off\")\n",
        "\n",
        "fig.add_subplot(1, 3, 3)\n",
        "plt.imshow(xtest_full[12])\n",
        "plt.axis(\"off\")\n",
        "\n",
        "plt.show()\n",
        "\n"
      ],
      "metadata": {
        "colab": {
          "base_uri": "https://localhost:8080/",
          "height": 82
        },
        "id": "hYMyxPoIrZi1",
        "outputId": "0bc0c5bb-e644-4170-98f2-efc29414c8f9"
      },
      "execution_count": 67,
      "outputs": [
        {
          "output_type": "display_data",
          "data": {
            "text/plain": [
              "<Figure size 200x100 with 3 Axes>"
            ],
            "image/png": "[encoded data removed]"
          },
          "metadata": {}
        }
      ]
    },
    {
      "cell_type": "code",
      "source": [
        "!pip install -q -U keras-tuner"
      ],
      "metadata": {
        "colab": {
          "base_uri": "https://localhost:8080/"
        },
        "id": "8dxXOYPX1xQf",
        "outputId": "e4d2f9e2-12a0-4af2-a75d-3851938dbc9e"
      },
      "execution_count": 69,
      "outputs": [
        {
          "output_type": "stream",
          "name": "stdout",
          "text": [
            "\u001b[?25l     \u001b[90m━━━━━━━━━━━━━━━━━━━━━━━━━━━━━━━━━━━━━━━━\u001b[0m \u001b[32m0.0/129.1 kB\u001b[0m \u001b[31m?\u001b[0m eta \u001b[36m-:--:--\u001b[0m\r\u001b[2K     \u001b[91m━━━━━━━━━━━━━━━━━━━━━━━━━━━━━━━━━━━━━━\u001b[0m\u001b[90m╺\u001b[0m\u001b[90m━\u001b[0m \u001b[32m122.9/129.1 kB\u001b[0m \u001b[31m4.2 MB/s\u001b[0m eta \u001b[36m0:00:01\u001b[0m\r\u001b[2K     \u001b[90m━━━━━━━━━━━━━━━━━━━━━━━━━━━━━━━━━━━━━━━━\u001b[0m \u001b[32m129.1/129.1 kB\u001b[0m \u001b[31m3.3 MB/s\u001b[0m eta \u001b[36m0:00:00\u001b[0m\n",
            "\u001b[?25h"
          ]
        }
      ]
    },
    {
      "cell_type": "code",
      "source": [
        "import keras_tuner\n",
        "import keras"
      ],
      "metadata": {
        "id": "F0fgCqtA2OLv"
      },
      "execution_count": 70,
      "outputs": []
    },
    {
      "cell_type": "code",
      "source": [
        "def build_model(hp):\n",
        "  model = keras.Sequential()\n",
        "  model.add(keras.layers.Flatten(input_shape = [28,28]))\n",
        "  hp_units = hp.Int('units', min_value=32, max_value=512, step=32)\n",
        "  model.add(keras.layers.Dense(units = hp_units, activation = \"relu\"))\n",
        "  model.add(keras.layers.Dense(10, activation = \"softmax\"))\n",
        "\n",
        "  hp_learning_rate = hp.Choice('learning_rate', values=[1e-2, 1e-3, 1e-4])\n",
        "  model.compile(optimizer=keras.optimizers.SGD(learning_rate=hp_learning_rate),\n",
        "                loss=\"sparse_categorical_crossentropy\",\n",
        "                metrics=['accuracy'])\n",
        "\n",
        "  return model"
      ],
      "metadata": {
        "id": "dYc-XV-j2Tgj"
      },
      "execution_count": 71,
      "outputs": []
    },
    {
      "cell_type": "code",
      "source": [
        "tuner = keras_tuner.RandomSearch(build_model,\n",
        "                     objective='val_accuracy')"
      ],
      "metadata": {
        "id": "2-zQqOoO2akL"
      },
      "execution_count": 73,
      "outputs": []
    },
    {
      "cell_type": "code",
      "source": [
        "tuner.search(xtrain, ytrain, epochs=5, validation_data=(xval, yval))"
      ],
      "metadata": {
        "colab": {
          "base_uri": "https://localhost:8080/"
        },
        "id": "-SEUBRA92cHr",
        "outputId": "0860cd11-cf35-4fab-e6ff-297a968803db"
      },
      "execution_count": 75,
      "outputs": [
        {
          "output_type": "stream",
          "name": "stdout",
          "text": [
            "Trial 10 Complete [00h 00m 22s]\n",
            "val_accuracy: 0.8514000177383423\n",
            "\n",
            "Best val_accuracy So Far: 0.8586000204086304\n",
            "Total elapsed time: 00h 05m 26s\n"
          ]
        }
      ]
    },
    {
      "cell_type": "code",
      "source": [
        "best_model = tuner.get_best_hyperparameters()[0]\n",
        "best_model.get(\"units\")"
      ],
      "metadata": {
        "colab": {
          "base_uri": "https://localhost:8080/"
        },
        "id": "5tiBL1R_5bYb",
        "outputId": "0016f20d-2a4f-424c-a1ce-37813689c793"
      },
      "execution_count": 78,
      "outputs": [
        {
          "output_type": "execute_result",
          "data": {
            "text/plain": [
              "128"
            ]
          },
          "metadata": {},
          "execution_count": 78
        }
      ]
    },
    {
      "cell_type": "code",
      "source": [
        "best_model.get(\"learning_rate\")"
      ],
      "metadata": {
        "colab": {
          "base_uri": "https://localhost:8080/"
        },
        "id": "PJTdQ2H95zCn",
        "outputId": "1d90a185-0ccc-4013-e413-062f2c886e71"
      },
      "execution_count": 79,
      "outputs": [
        {
          "output_type": "execute_result",
          "data": {
            "text/plain": [
              "0.01"
            ]
          },
          "metadata": {},
          "execution_count": 79
        }
      ]
    },
    {
      "cell_type": "code",
      "source": [
        "model = tuner.hypermodel.build(best_model)\n",
        "history = model.fit(xtrain_full, ytrain_full, epochs=30, validation_split = 0.2)\n",
        "\n",
        "val_acc_per_epoch = history.history['val_accuracy']\n",
        "best_epoch = val_acc_per_epoch.index(max(val_acc_per_epoch)) + 1"
      ],
      "metadata": {
        "colab": {
          "base_uri": "https://localhost:8080/"
        },
        "id": "Yp4IQrjx6BWx",
        "outputId": "05823efa-bfca-48cc-ec8d-cb9394f9271e"
      },
      "execution_count": 82,
      "outputs": [
        {
          "output_type": "stream",
          "name": "stdout",
          "text": [
            "Epoch 1/30\n",
            "1500/1500 [==============================] - 4s 3ms/step - loss: 0.7747 - accuracy: 0.7560 - val_loss: 0.5651 - val_accuracy: 0.8149\n",
            "Epoch 2/30\n",
            "1500/1500 [==============================] - 5s 3ms/step - loss: 0.5303 - accuracy: 0.8220 - val_loss: 0.5044 - val_accuracy: 0.8267\n",
            "Epoch 3/30\n",
            "1500/1500 [==============================] - 7s 4ms/step - loss: 0.4818 - accuracy: 0.8349 - val_loss: 0.4740 - val_accuracy: 0.8347\n",
            "Epoch 4/30\n",
            "1500/1500 [==============================] - 10s 7ms/step - loss: 0.4545 - accuracy: 0.8430 - val_loss: 0.4521 - val_accuracy: 0.8422\n",
            "Epoch 5/30\n",
            "1500/1500 [==============================] - 7s 4ms/step - loss: 0.4357 - accuracy: 0.8494 - val_loss: 0.4412 - val_accuracy: 0.8480\n",
            "Epoch 6/30\n",
            "1500/1500 [==============================] - 8s 5ms/step - loss: 0.4208 - accuracy: 0.8541 - val_loss: 0.4226 - val_accuracy: 0.8508\n",
            "Epoch 7/30\n",
            "1500/1500 [==============================] - 4s 2ms/step - loss: 0.4089 - accuracy: 0.8589 - val_loss: 0.4182 - val_accuracy: 0.8521\n",
            "Epoch 8/30\n",
            "1500/1500 [==============================] - 6s 4ms/step - loss: 0.3987 - accuracy: 0.8613 - val_loss: 0.4267 - val_accuracy: 0.8520\n",
            "Epoch 9/30\n",
            "1500/1500 [==============================] - 7s 5ms/step - loss: 0.3902 - accuracy: 0.8643 - val_loss: 0.4012 - val_accuracy: 0.8597\n",
            "Epoch 10/30\n",
            "1500/1500 [==============================] - 5s 4ms/step - loss: 0.3804 - accuracy: 0.8689 - val_loss: 0.3942 - val_accuracy: 0.8627\n",
            "Epoch 11/30\n",
            "1500/1500 [==============================] - 5s 4ms/step - loss: 0.3746 - accuracy: 0.8694 - val_loss: 0.3970 - val_accuracy: 0.8584\n",
            "Epoch 12/30\n",
            "1500/1500 [==============================] - 4s 3ms/step - loss: 0.3678 - accuracy: 0.8723 - val_loss: 0.3872 - val_accuracy: 0.8633\n",
            "Epoch 13/30\n",
            "1500/1500 [==============================] - 4s 2ms/step - loss: 0.3614 - accuracy: 0.8726 - val_loss: 0.3858 - val_accuracy: 0.8624\n",
            "Epoch 14/30\n",
            "1500/1500 [==============================] - 5s 3ms/step - loss: 0.3565 - accuracy: 0.8748 - val_loss: 0.3874 - val_accuracy: 0.8623\n",
            "Epoch 15/30\n",
            "1500/1500 [==============================] - 4s 3ms/step - loss: 0.3506 - accuracy: 0.8781 - val_loss: 0.3723 - val_accuracy: 0.8666\n",
            "Epoch 16/30\n",
            "1500/1500 [==============================] - 4s 3ms/step - loss: 0.3456 - accuracy: 0.8784 - val_loss: 0.3736 - val_accuracy: 0.8660\n",
            "Epoch 17/30\n",
            "1500/1500 [==============================] - 6s 4ms/step - loss: 0.3412 - accuracy: 0.8796 - val_loss: 0.3698 - val_accuracy: 0.8693\n",
            "Epoch 18/30\n",
            "1500/1500 [==============================] - 4s 3ms/step - loss: 0.3359 - accuracy: 0.8818 - val_loss: 0.3607 - val_accuracy: 0.8715\n",
            "Epoch 19/30\n",
            "1500/1500 [==============================] - 4s 3ms/step - loss: 0.3314 - accuracy: 0.8832 - val_loss: 0.3623 - val_accuracy: 0.8746\n",
            "Epoch 20/30\n",
            "1500/1500 [==============================] - 5s 4ms/step - loss: 0.3282 - accuracy: 0.8840 - val_loss: 0.3623 - val_accuracy: 0.8736\n",
            "Epoch 21/30\n",
            "1500/1500 [==============================] - 4s 3ms/step - loss: 0.3242 - accuracy: 0.8850 - val_loss: 0.3560 - val_accuracy: 0.8745\n",
            "Epoch 22/30\n",
            "1500/1500 [==============================] - 4s 3ms/step - loss: 0.3208 - accuracy: 0.8864 - val_loss: 0.3578 - val_accuracy: 0.8708\n",
            "Epoch 23/30\n",
            "1500/1500 [==============================] - 5s 4ms/step - loss: 0.3175 - accuracy: 0.8881 - val_loss: 0.3569 - val_accuracy: 0.8764\n",
            "Epoch 24/30\n",
            "1500/1500 [==============================] - 4s 2ms/step - loss: 0.3130 - accuracy: 0.8895 - val_loss: 0.3485 - val_accuracy: 0.8755\n",
            "Epoch 25/30\n",
            "1500/1500 [==============================] - 5s 3ms/step - loss: 0.3104 - accuracy: 0.8917 - val_loss: 0.3531 - val_accuracy: 0.8763\n",
            "Epoch 26/30\n",
            "1500/1500 [==============================] - 5s 4ms/step - loss: 0.3067 - accuracy: 0.8917 - val_loss: 0.3560 - val_accuracy: 0.8734\n",
            "Epoch 27/30\n",
            "1500/1500 [==============================] - 4s 3ms/step - loss: 0.3036 - accuracy: 0.8925 - val_loss: 0.3462 - val_accuracy: 0.8772\n",
            "Epoch 28/30\n",
            "1500/1500 [==============================] - 4s 3ms/step - loss: 0.3009 - accuracy: 0.8933 - val_loss: 0.3546 - val_accuracy: 0.8727\n",
            "Epoch 29/30\n",
            "1500/1500 [==============================] - 5s 3ms/step - loss: 0.2976 - accuracy: 0.8947 - val_loss: 0.3436 - val_accuracy: 0.8788\n",
            "Epoch 30/30\n",
            "1500/1500 [==============================] - 4s 3ms/step - loss: 0.2942 - accuracy: 0.8960 - val_loss: 0.3412 - val_accuracy: 0.8788\n"
          ]
        }
      ]
    },
    {
      "cell_type": "code",
      "source": [
        "hypermodel = tuner.hypermodel.build(best_model)\n",
        "\n",
        "# Retrain the model\n",
        "hypermodel.fit(xtrain_full, ytrain_full, epochs=best_epoch, validation_split=0.2)"
      ],
      "metadata": {
        "colab": {
          "base_uri": "https://localhost:8080/"
        },
        "id": "vc6apF-L65cj",
        "outputId": "f4365606-1b3b-48b5-8fc8-aa62ff01bc76"
      },
      "execution_count": 83,
      "outputs": [
        {
          "output_type": "stream",
          "name": "stdout",
          "text": [
            "Epoch 1/29\n",
            "1500/1500 [==============================] - 4s 3ms/step - loss: 0.7694 - accuracy: 0.7499 - val_loss: 0.5647 - val_accuracy: 0.8117\n",
            "Epoch 2/29\n",
            "1500/1500 [==============================] - 5s 3ms/step - loss: 0.5320 - accuracy: 0.8215 - val_loss: 0.4960 - val_accuracy: 0.8277\n",
            "Epoch 3/29\n",
            "1500/1500 [==============================] - 4s 3ms/step - loss: 0.4818 - accuracy: 0.8351 - val_loss: 0.4725 - val_accuracy: 0.8338\n",
            "Epoch 4/29\n",
            "1500/1500 [==============================] - 4s 2ms/step - loss: 0.4543 - accuracy: 0.8442 - val_loss: 0.4832 - val_accuracy: 0.8270\n",
            "Epoch 5/29\n",
            "1500/1500 [==============================] - 8s 5ms/step - loss: 0.4355 - accuracy: 0.8513 - val_loss: 0.4409 - val_accuracy: 0.8432\n",
            "Epoch 6/29\n",
            "1500/1500 [==============================] - 7s 5ms/step - loss: 0.4212 - accuracy: 0.8546 - val_loss: 0.4258 - val_accuracy: 0.8496\n",
            "Epoch 7/29\n",
            "1500/1500 [==============================] - 9s 6ms/step - loss: 0.4088 - accuracy: 0.8566 - val_loss: 0.4217 - val_accuracy: 0.8523\n",
            "Epoch 8/29\n",
            "1500/1500 [==============================] - 7s 5ms/step - loss: 0.3986 - accuracy: 0.8626 - val_loss: 0.4201 - val_accuracy: 0.8541\n",
            "Epoch 9/29\n",
            "1500/1500 [==============================] - 5s 3ms/step - loss: 0.3895 - accuracy: 0.8647 - val_loss: 0.4009 - val_accuracy: 0.8583\n",
            "Epoch 10/29\n",
            "1500/1500 [==============================] - 4s 2ms/step - loss: 0.3814 - accuracy: 0.8677 - val_loss: 0.4004 - val_accuracy: 0.8576\n",
            "Epoch 11/29\n",
            "1500/1500 [==============================] - 4s 2ms/step - loss: 0.3745 - accuracy: 0.8692 - val_loss: 0.3888 - val_accuracy: 0.8643\n",
            "Epoch 12/29\n",
            "1500/1500 [==============================] - 5s 3ms/step - loss: 0.3676 - accuracy: 0.8721 - val_loss: 0.3888 - val_accuracy: 0.8641\n",
            "Epoch 13/29\n",
            "1500/1500 [==============================] - 4s 2ms/step - loss: 0.3610 - accuracy: 0.8742 - val_loss: 0.3900 - val_accuracy: 0.8647\n",
            "Epoch 14/29\n",
            "1500/1500 [==============================] - 4s 2ms/step - loss: 0.3552 - accuracy: 0.8759 - val_loss: 0.3812 - val_accuracy: 0.8678\n",
            "Epoch 15/29\n",
            "1500/1500 [==============================] - 5s 3ms/step - loss: 0.3505 - accuracy: 0.8779 - val_loss: 0.3904 - val_accuracy: 0.8601\n",
            "Epoch 16/29\n",
            "1500/1500 [==============================] - 4s 3ms/step - loss: 0.3444 - accuracy: 0.8794 - val_loss: 0.3830 - val_accuracy: 0.8639\n",
            "Epoch 17/29\n",
            "1500/1500 [==============================] - 4s 3ms/step - loss: 0.3405 - accuracy: 0.8805 - val_loss: 0.3695 - val_accuracy: 0.8703\n",
            "Epoch 18/29\n",
            "1500/1500 [==============================] - 4s 3ms/step - loss: 0.3361 - accuracy: 0.8809 - val_loss: 0.3656 - val_accuracy: 0.8705\n",
            "Epoch 19/29\n",
            "1500/1500 [==============================] - 5s 3ms/step - loss: 0.3318 - accuracy: 0.8821 - val_loss: 0.3650 - val_accuracy: 0.8733\n",
            "Epoch 20/29\n",
            "1500/1500 [==============================] - 4s 2ms/step - loss: 0.3272 - accuracy: 0.8848 - val_loss: 0.3755 - val_accuracy: 0.8647\n",
            "Epoch 21/29\n",
            "1500/1500 [==============================] - 4s 2ms/step - loss: 0.3237 - accuracy: 0.8860 - val_loss: 0.3557 - val_accuracy: 0.8751\n",
            "Epoch 22/29\n",
            "1500/1500 [==============================] - 5s 3ms/step - loss: 0.3199 - accuracy: 0.8859 - val_loss: 0.3557 - val_accuracy: 0.8731\n",
            "Epoch 23/29\n",
            "1500/1500 [==============================] - 4s 3ms/step - loss: 0.3169 - accuracy: 0.8881 - val_loss: 0.3502 - val_accuracy: 0.8764\n",
            "Epoch 24/29\n",
            "1500/1500 [==============================] - 4s 2ms/step - loss: 0.3129 - accuracy: 0.8894 - val_loss: 0.3506 - val_accuracy: 0.8764\n",
            "Epoch 25/29\n",
            "1500/1500 [==============================] - 5s 3ms/step - loss: 0.3101 - accuracy: 0.8890 - val_loss: 0.3545 - val_accuracy: 0.8737\n",
            "Epoch 26/29\n",
            "1500/1500 [==============================] - 4s 3ms/step - loss: 0.3057 - accuracy: 0.8913 - val_loss: 0.3488 - val_accuracy: 0.8766\n",
            "Epoch 27/29\n",
            "1500/1500 [==============================] - 4s 2ms/step - loss: 0.3037 - accuracy: 0.8928 - val_loss: 0.3426 - val_accuracy: 0.8789\n",
            "Epoch 28/29\n",
            "1500/1500 [==============================] - 8s 5ms/step - loss: 0.3006 - accuracy: 0.8937 - val_loss: 0.3563 - val_accuracy: 0.8709\n",
            "Epoch 29/29\n",
            "1500/1500 [==============================] - 4s 2ms/step - loss: 0.2966 - accuracy: 0.8949 - val_loss: 0.3393 - val_accuracy: 0.8793\n"
          ]
        },
        {
          "output_type": "execute_result",
          "data": {
            "text/plain": [
              "<keras.src.callbacks.History at 0x7e4d1fc0bb80>"
            ]
          },
          "metadata": {},
          "execution_count": 83
        }
      ]
    },
    {
      "cell_type": "code",
      "source": [
        "eval_result = hypermodel.evaluate(xtest_full, ytest_full)\n",
        "print(\"[test loss, test accuracy]:\", eval_result)"
      ],
      "metadata": {
        "colab": {
          "base_uri": "https://localhost:8080/"
        },
        "id": "HQW0FarD7CG8",
        "outputId": "668eda40-8afd-425f-8eeb-e3cc4d9667fd"
      },
      "execution_count": 86,
      "outputs": [
        {
          "output_type": "stream",
          "name": "stdout",
          "text": [
            "313/313 [==============================] - 3s 6ms/step - loss: 0.3636 - accuracy: 0.8714\n",
            "[test loss, test accuracy]: [0.36362236738204956, 0.871399998664856]\n"
          ]
        }
      ]
    }
  ]
}